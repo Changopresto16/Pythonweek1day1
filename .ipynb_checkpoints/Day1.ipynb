{
 "cells": [
  {
   "cell_type": "code",
   "execution_count": 8,
   "id": "28cf592c",
   "metadata": {},
   "outputs": [
    {
     "name": "stdout",
     "output_type": "stream",
     "text": [
      "Please enter a persons age.2\n",
      "Child.\n"
     ]
    }
   ],
   "source": [
    "#Exercise 1\n",
    "\n",
    "age = int(input('Please enter a persons age.'))\n",
    "\n",
    "if age < 18:\n",
    "    print('Child.')\n",
    "elif age >= 18 and age <= 65:\n",
    "    print('Adult')\n",
    "else:\n",
    "    print('Senior')\n"
   ]
  },
  {
   "cell_type": "code",
   "execution_count": 21,
   "id": "fde05413",
   "metadata": {},
   "outputs": [
    {
     "name": "stdout",
     "output_type": "stream",
     "text": [
      "How high can we prime?:100\n",
      "1\n",
      "2\n",
      "3\n",
      "5\n",
      "7\n",
      "11\n",
      "13\n",
      "17\n",
      "19\n",
      "23\n",
      "29\n",
      "31\n",
      "37\n",
      "41\n",
      "43\n",
      "47\n",
      "53\n",
      "59\n",
      "61\n",
      "67\n",
      "71\n",
      "73\n",
      "79\n",
      "83\n",
      "89\n",
      "97\n"
     ]
    }
   ],
   "source": [
    "#Exercise 2\n",
    "\n",
    "End = int(input('How high can we prime?:'))\n",
    "\n",
    "for x in range(1, 101):\n",
    "    isPrime = True\n",
    "    for y in range(2, x):\n",
    "        if x % y ==0:\n",
    "            isPrime = False\n",
    "            \n",
    "            \n",
    "    if isPrime:\n",
    "        print(x)"
   ]
  },
  {
   "cell_type": "code",
   "execution_count": 20,
   "id": "386aa31a",
   "metadata": {},
   "outputs": [
    {
     "name": "stdout",
     "output_type": "stream",
     "text": [
      "Please enter a persons age.2\n",
      "Child.\n"
     ]
    }
   ],
   "source": [
    "# Exercise 3\n",
    "\n",
    "age = int(input('Please enter a persons age.'))\n",
    "\n",
    "if age < 18:\n",
    "    print('Child.')\n",
    "elif age >= 18 and age <= 65:\n",
    "    print('Adult')\n",
    "else:\n",
    "    print('Senior')\n"
   ]
  },
  {
   "cell_type": "code",
   "execution_count": 32,
   "id": "056689d7",
   "metadata": {},
   "outputs": [
    {
     "name": "stdout",
     "output_type": "stream",
     "text": [
      "1\n",
      "5\n",
      "8\n",
      "9\n"
     ]
    }
   ],
   "source": [
    "# Exercise 4\n",
    "\n",
    "list1=[1,11,14,5,8,9]\n",
    "\n",
    "for x in list1:    \n",
    "    if x <10:\n",
    "        print(x)\n",
    "\n",
    "    \n"
   ]
  },
  {
   "cell_type": "code",
   "execution_count": null,
   "id": "87f782fc",
   "metadata": {},
   "outputs": [],
   "source": []
  }
 ],
 "metadata": {
  "kernelspec": {
   "display_name": "Python 3 (ipykernel)",
   "language": "python",
   "name": "python3"
  },
  "language_info": {
   "codemirror_mode": {
    "name": "ipython",
    "version": 3
   },
   "file_extension": ".py",
   "mimetype": "text/x-python",
   "name": "python",
   "nbconvert_exporter": "python",
   "pygments_lexer": "ipython3",
   "version": "3.9.7"
  }
 },
 "nbformat": 4,
 "nbformat_minor": 5
}
